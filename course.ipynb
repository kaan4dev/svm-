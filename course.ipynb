{
 "cells": [
  {
   "cell_type": "markdown",
   "id": "1f65cf00",
   "metadata": {},
   "source": [
    "## Imports"
   ]
  },
  {
   "cell_type": "code",
   "execution_count": 1,
   "id": "01a96d3a",
   "metadata": {},
   "outputs": [],
   "source": [
    "import numpy as np\n",
    "import pandas as pd \n",
    "import matplotlib.pyplot as plt\n",
    "from collections import Counter\n",
    "from matplotlib import style\n",
    "style.use('fivethirtyeight')\n",
    "from sklearn import preprocessing, model_selection, neighbors\n",
    "from math import sqrt\n",
    "from scipy.spatial import distance\n",
    "\n",
    "import warnings "
   ]
  },
  {
   "cell_type": "markdown",
   "id": "aec7eb0e",
   "metadata": {},
   "source": [
    "## The Data"
   ]
  },
  {
   "cell_type": "code",
   "execution_count": 2,
   "id": "889cfcdc",
   "metadata": {},
   "outputs": [],
   "source": [
    "dataDict = {-1: np.array([[1, 7], [2,8], [3,8]]), 1: np.array([[5, 1], [6,-1], [7,3]])}"
   ]
  },
  {
   "cell_type": "markdown",
   "id": "38f78b0f",
   "metadata": {},
   "source": [
    "## SVM"
   ]
  },
  {
   "cell_type": "code",
   "execution_count": null,
   "id": "5d65ac97",
   "metadata": {},
   "outputs": [],
   "source": [
    "class svm:\n",
    "    def __init__(self, visualization=True):\n",
    "        self.visualization = visualization\n",
    "        self.colors = {1: 'r', -1: 'b'}\n",
    "        if self.visualization:\n",
    "            self.fig = plt.figure()\n",
    "            self.ax = self.fig.add_subplot(1,1,1)\n",
    "    \n",
    "    def fit(self,data):\n",
    "        self.data = data\n",
    "\n",
    "        optDict =  \n",
    "\n",
    "        transforms = [[1, 1], [-1, 1], [-1, -1],[1, -1]\n",
    "]\n",
    "\n",
    "    def predict(self,data):\n",
    "        classification = np.sign(np.dot(np.array(features),self.w)+self.b)\n",
    "\n",
    "        return classification"
   ]
  }
 ],
 "metadata": {
  "kernelspec": {
   "display_name": "tf-env",
   "language": "python",
   "name": "python3"
  },
  "language_info": {
   "codemirror_mode": {
    "name": "ipython",
    "version": 3
   },
   "file_extension": ".py",
   "mimetype": "text/x-python",
   "name": "python",
   "nbconvert_exporter": "python",
   "pygments_lexer": "ipython3",
   "version": "3.8.20"
  }
 },
 "nbformat": 4,
 "nbformat_minor": 5
}
